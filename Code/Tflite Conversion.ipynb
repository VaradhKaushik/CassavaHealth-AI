{
 "metadata": {
  "language_info": {
   "codemirror_mode": {
    "name": "ipython",
    "version": 3
   },
   "file_extension": ".py",
   "mimetype": "text/x-python",
   "name": "python",
   "nbconvert_exporter": "python",
   "pygments_lexer": "ipython3",
   "version": "3.8.2-final"
  },
  "orig_nbformat": 2,
  "kernelspec": {
   "name": "python3",
   "display_name": "Python 3.8.2 64-bit",
   "metadata": {
    "interpreter": {
     "hash": "5fcdc2ec6892008f3bd9b93e5313873ef664f4d44edf4818986e0696990c8c99"
    }
   }
  }
 },
 "nbformat": 4,
 "nbformat_minor": 2,
 "cells": [
  {
   "cell_type": "code",
   "execution_count": 1,
   "metadata": {},
   "outputs": [],
   "source": [
    "import numpy as np\n",
    "import pandas as pd\n",
    "import matplotlib.pyplot as plt\n",
    "import seaborn as sns\n",
    "import datetime\n",
    "\n",
    "from sklearn.model_selection import train_test_split\n",
    "from sklearn.metrics import accuracy_score\n",
    "import tensorflow as tf\n",
    "from tensorflow.keras import models, layers\n",
    "from tensorflow.keras.preprocessing import image\n",
    "from tensorflow.keras.preprocessing.image import ImageDataGenerator\n",
    "from tensorflow.keras.callbacks import ModelCheckpoint, EarlyStopping, ReduceLROnPlateau\n",
    "\n",
    "from tensorflow.keras.applications import EfficientNetB4\n",
    "# from efficientnet.keras import EfficientNetB3\n",
    "\n",
    "from tensorflow.keras.optimizers import Adam\n",
    "\n",
    "# ignoring warnings\n",
    "import warnings\n",
    "warnings.simplefilter(\"ignore\")\n",
    "\n",
    "import os, cv2, json\n",
    "from PIL import Image"
   ]
  },
  {
   "cell_type": "code",
   "execution_count": 2,
   "metadata": {},
   "outputs": [],
   "source": [
    "def create_model():\n",
    "\n",
    "    conv_base = EfficientNetB4(include_top = False, weights = None,\n",
    "                               input_shape = (380, 380, 3))\n",
    "    model = conv_base.output\n",
    "    model = layers.Flatten()(model)\n",
    "    model = layers.Dense(5, activation = \"softmax\")(model)\n",
    "    model = models.Model(conv_base.input, model)\n",
    "\n",
    "    model.compile(optimizer = Adam(lr = 0.0002),\n",
    "                  loss = \"sparse_categorical_crossentropy\",\n",
    "                  metrics = [\"acc\"])\n",
    "    return model"
   ]
  },
  {
   "cell_type": "code",
   "execution_count": 3,
   "metadata": {
    "tags": [
     "outputPrepend"
    ]
   },
   "outputs": [
    {
     "output_type": "stream",
     "name": "stdout",
     "text": [
      "________________\nblock6d_add (Add)               (None, 12, 12, 272)  0           block6d_drop[0][0]               \n                                                                 block6c_add[0][0]                \n__________________________________________________________________________________________________\nblock6e_expand_conv (Conv2D)    (None, 12, 12, 1632) 443904      block6d_add[0][0]                \n__________________________________________________________________________________________________\nblock6e_expand_bn (BatchNormali (None, 12, 12, 1632) 6528        block6e_expand_conv[0][0]        \n__________________________________________________________________________________________________\nblock6e_expand_activation (Acti (None, 12, 12, 1632) 0           block6e_expand_bn[0][0]          \n__________________________________________________________________________________________________\nblock6e_dwconv (DepthwiseConv2D (None, 12, 12, 1632) 40800       block6e_expand_activation[0][0]  \n__________________________________________________________________________________________________\nblock6e_bn (BatchNormalization) (None, 12, 12, 1632) 6528        block6e_dwconv[0][0]             \n__________________________________________________________________________________________________\nblock6e_activation (Activation) (None, 12, 12, 1632) 0           block6e_bn[0][0]                 \n__________________________________________________________________________________________________\nblock6e_se_squeeze (GlobalAvera (None, 1632)         0           block6e_activation[0][0]         \n__________________________________________________________________________________________________\nblock6e_se_reshape (Reshape)    (None, 1, 1, 1632)   0           block6e_se_squeeze[0][0]         \n__________________________________________________________________________________________________\nblock6e_se_reduce (Conv2D)      (None, 1, 1, 68)     111044      block6e_se_reshape[0][0]         \n__________________________________________________________________________________________________\nblock6e_se_expand (Conv2D)      (None, 1, 1, 1632)   112608      block6e_se_reduce[0][0]          \n__________________________________________________________________________________________________\nblock6e_se_excite (Multiply)    (None, 12, 12, 1632) 0           block6e_activation[0][0]         \n                                                                 block6e_se_expand[0][0]          \n__________________________________________________________________________________________________\nblock6e_project_conv (Conv2D)   (None, 12, 12, 272)  443904      block6e_se_excite[0][0]          \n__________________________________________________________________________________________________\nblock6e_project_bn (BatchNormal (None, 12, 12, 272)  1088        block6e_project_conv[0][0]       \n__________________________________________________________________________________________________\nblock6e_drop (Dropout)          (None, 12, 12, 272)  0           block6e_project_bn[0][0]         \n__________________________________________________________________________________________________\nblock6e_add (Add)               (None, 12, 12, 272)  0           block6e_drop[0][0]               \n                                                                 block6d_add[0][0]                \n__________________________________________________________________________________________________\nblock6f_expand_conv (Conv2D)    (None, 12, 12, 1632) 443904      block6e_add[0][0]                \n__________________________________________________________________________________________________\nblock6f_expand_bn (BatchNormali (None, 12, 12, 1632) 6528        block6f_expand_conv[0][0]        \n__________________________________________________________________________________________________\nblock6f_expand_activation (Acti (None, 12, 12, 1632) 0           block6f_expand_bn[0][0]          \n__________________________________________________________________________________________________\nblock6f_dwconv (DepthwiseConv2D (None, 12, 12, 1632) 40800       block6f_expand_activation[0][0]  \n__________________________________________________________________________________________________\nblock6f_bn (BatchNormalization) (None, 12, 12, 1632) 6528        block6f_dwconv[0][0]             \n__________________________________________________________________________________________________\nblock6f_activation (Activation) (None, 12, 12, 1632) 0           block6f_bn[0][0]                 \n__________________________________________________________________________________________________\nblock6f_se_squeeze (GlobalAvera (None, 1632)         0           block6f_activation[0][0]         \n__________________________________________________________________________________________________\nblock6f_se_reshape (Reshape)    (None, 1, 1, 1632)   0           block6f_se_squeeze[0][0]         \n__________________________________________________________________________________________________\nblock6f_se_reduce (Conv2D)      (None, 1, 1, 68)     111044      block6f_se_reshape[0][0]         \n__________________________________________________________________________________________________\nblock6f_se_expand (Conv2D)      (None, 1, 1, 1632)   112608      block6f_se_reduce[0][0]          \n__________________________________________________________________________________________________\nblock6f_se_excite (Multiply)    (None, 12, 12, 1632) 0           block6f_activation[0][0]         \n                                                                 block6f_se_expand[0][0]          \n__________________________________________________________________________________________________\nblock6f_project_conv (Conv2D)   (None, 12, 12, 272)  443904      block6f_se_excite[0][0]          \n__________________________________________________________________________________________________\nblock6f_project_bn (BatchNormal (None, 12, 12, 272)  1088        block6f_project_conv[0][0]       \n__________________________________________________________________________________________________\nblock6f_drop (Dropout)          (None, 12, 12, 272)  0           block6f_project_bn[0][0]         \n__________________________________________________________________________________________________\nblock6f_add (Add)               (None, 12, 12, 272)  0           block6f_drop[0][0]               \n                                                                 block6e_add[0][0]                \n__________________________________________________________________________________________________\nblock6g_expand_conv (Conv2D)    (None, 12, 12, 1632) 443904      block6f_add[0][0]                \n__________________________________________________________________________________________________\nblock6g_expand_bn (BatchNormali (None, 12, 12, 1632) 6528        block6g_expand_conv[0][0]        \n__________________________________________________________________________________________________\nblock6g_expand_activation (Acti (None, 12, 12, 1632) 0           block6g_expand_bn[0][0]          \n__________________________________________________________________________________________________\nblock6g_dwconv (DepthwiseConv2D (None, 12, 12, 1632) 40800       block6g_expand_activation[0][0]  \n__________________________________________________________________________________________________\nblock6g_bn (BatchNormalization) (None, 12, 12, 1632) 6528        block6g_dwconv[0][0]             \n__________________________________________________________________________________________________\nblock6g_activation (Activation) (None, 12, 12, 1632) 0           block6g_bn[0][0]                 \n__________________________________________________________________________________________________\nblock6g_se_squeeze (GlobalAvera (None, 1632)         0           block6g_activation[0][0]         \n__________________________________________________________________________________________________\nblock6g_se_reshape (Reshape)    (None, 1, 1, 1632)   0           block6g_se_squeeze[0][0]         \n__________________________________________________________________________________________________\nblock6g_se_reduce (Conv2D)      (None, 1, 1, 68)     111044      block6g_se_reshape[0][0]         \n__________________________________________________________________________________________________\nblock6g_se_expand (Conv2D)      (None, 1, 1, 1632)   112608      block6g_se_reduce[0][0]          \n__________________________________________________________________________________________________\nblock6g_se_excite (Multiply)    (None, 12, 12, 1632) 0           block6g_activation[0][0]         \n                                                                 block6g_se_expand[0][0]          \n__________________________________________________________________________________________________\nblock6g_project_conv (Conv2D)   (None, 12, 12, 272)  443904      block6g_se_excite[0][0]          \n__________________________________________________________________________________________________\nblock6g_project_bn (BatchNormal (None, 12, 12, 272)  1088        block6g_project_conv[0][0]       \n__________________________________________________________________________________________________\nblock6g_drop (Dropout)          (None, 12, 12, 272)  0           block6g_project_bn[0][0]         \n__________________________________________________________________________________________________\nblock6g_add (Add)               (None, 12, 12, 272)  0           block6g_drop[0][0]               \n                                                                 block6f_add[0][0]                \n__________________________________________________________________________________________________\nblock6h_expand_conv (Conv2D)    (None, 12, 12, 1632) 443904      block6g_add[0][0]                \n__________________________________________________________________________________________________\nblock6h_expand_bn (BatchNormali (None, 12, 12, 1632) 6528        block6h_expand_conv[0][0]        \n__________________________________________________________________________________________________\nblock6h_expand_activation (Acti (None, 12, 12, 1632) 0           block6h_expand_bn[0][0]          \n__________________________________________________________________________________________________\nblock6h_dwconv (DepthwiseConv2D (None, 12, 12, 1632) 40800       block6h_expand_activation[0][0]  \n__________________________________________________________________________________________________\nblock6h_bn (BatchNormalization) (None, 12, 12, 1632) 6528        block6h_dwconv[0][0]             \n__________________________________________________________________________________________________\nblock6h_activation (Activation) (None, 12, 12, 1632) 0           block6h_bn[0][0]                 \n__________________________________________________________________________________________________\nblock6h_se_squeeze (GlobalAvera (None, 1632)         0           block6h_activation[0][0]         \n__________________________________________________________________________________________________\nblock6h_se_reshape (Reshape)    (None, 1, 1, 1632)   0           block6h_se_squeeze[0][0]         \n__________________________________________________________________________________________________\nblock6h_se_reduce (Conv2D)      (None, 1, 1, 68)     111044      block6h_se_reshape[0][0]         \n__________________________________________________________________________________________________\nblock6h_se_expand (Conv2D)      (None, 1, 1, 1632)   112608      block6h_se_reduce[0][0]          \n__________________________________________________________________________________________________\nblock6h_se_excite (Multiply)    (None, 12, 12, 1632) 0           block6h_activation[0][0]         \n                                                                 block6h_se_expand[0][0]          \n__________________________________________________________________________________________________\nblock6h_project_conv (Conv2D)   (None, 12, 12, 272)  443904      block6h_se_excite[0][0]          \n__________________________________________________________________________________________________\nblock6h_project_bn (BatchNormal (None, 12, 12, 272)  1088        block6h_project_conv[0][0]       \n__________________________________________________________________________________________________\nblock6h_drop (Dropout)          (None, 12, 12, 272)  0           block6h_project_bn[0][0]         \n__________________________________________________________________________________________________\nblock6h_add (Add)               (None, 12, 12, 272)  0           block6h_drop[0][0]               \n                                                                 block6g_add[0][0]                \n__________________________________________________________________________________________________\nblock7a_expand_conv (Conv2D)    (None, 12, 12, 1632) 443904      block6h_add[0][0]                \n__________________________________________________________________________________________________\nblock7a_expand_bn (BatchNormali (None, 12, 12, 1632) 6528        block7a_expand_conv[0][0]        \n__________________________________________________________________________________________________\nblock7a_expand_activation (Acti (None, 12, 12, 1632) 0           block7a_expand_bn[0][0]          \n__________________________________________________________________________________________________\nblock7a_dwconv (DepthwiseConv2D (None, 12, 12, 1632) 14688       block7a_expand_activation[0][0]  \n__________________________________________________________________________________________________\nblock7a_bn (BatchNormalization) (None, 12, 12, 1632) 6528        block7a_dwconv[0][0]             \n__________________________________________________________________________________________________\nblock7a_activation (Activation) (None, 12, 12, 1632) 0           block7a_bn[0][0]                 \n__________________________________________________________________________________________________\nblock7a_se_squeeze (GlobalAvera (None, 1632)         0           block7a_activation[0][0]         \n__________________________________________________________________________________________________\nblock7a_se_reshape (Reshape)    (None, 1, 1, 1632)   0           block7a_se_squeeze[0][0]         \n__________________________________________________________________________________________________\nblock7a_se_reduce (Conv2D)      (None, 1, 1, 68)     111044      block7a_se_reshape[0][0]         \n__________________________________________________________________________________________________\nblock7a_se_expand (Conv2D)      (None, 1, 1, 1632)   112608      block7a_se_reduce[0][0]          \n__________________________________________________________________________________________________\nblock7a_se_excite (Multiply)    (None, 12, 12, 1632) 0           block7a_activation[0][0]         \n                                                                 block7a_se_expand[0][0]          \n__________________________________________________________________________________________________\nblock7a_project_conv (Conv2D)   (None, 12, 12, 448)  731136      block7a_se_excite[0][0]          \n__________________________________________________________________________________________________\nblock7a_project_bn (BatchNormal (None, 12, 12, 448)  1792        block7a_project_conv[0][0]       \n__________________________________________________________________________________________________\nblock7b_expand_conv (Conv2D)    (None, 12, 12, 2688) 1204224     block7a_project_bn[0][0]         \n__________________________________________________________________________________________________\nblock7b_expand_bn (BatchNormali (None, 12, 12, 2688) 10752       block7b_expand_conv[0][0]        \n__________________________________________________________________________________________________\nblock7b_expand_activation (Acti (None, 12, 12, 2688) 0           block7b_expand_bn[0][0]          \n__________________________________________________________________________________________________\nblock7b_dwconv (DepthwiseConv2D (None, 12, 12, 2688) 24192       block7b_expand_activation[0][0]  \n__________________________________________________________________________________________________\nblock7b_bn (BatchNormalization) (None, 12, 12, 2688) 10752       block7b_dwconv[0][0]             \n__________________________________________________________________________________________________\nblock7b_activation (Activation) (None, 12, 12, 2688) 0           block7b_bn[0][0]                 \n__________________________________________________________________________________________________\nblock7b_se_squeeze (GlobalAvera (None, 2688)         0           block7b_activation[0][0]         \n__________________________________________________________________________________________________\nblock7b_se_reshape (Reshape)    (None, 1, 1, 2688)   0           block7b_se_squeeze[0][0]         \n__________________________________________________________________________________________________\nblock7b_se_reduce (Conv2D)      (None, 1, 1, 112)    301168      block7b_se_reshape[0][0]         \n__________________________________________________________________________________________________\nblock7b_se_expand (Conv2D)      (None, 1, 1, 2688)   303744      block7b_se_reduce[0][0]          \n__________________________________________________________________________________________________\nblock7b_se_excite (Multiply)    (None, 12, 12, 2688) 0           block7b_activation[0][0]         \n                                                                 block7b_se_expand[0][0]          \n__________________________________________________________________________________________________\nblock7b_project_conv (Conv2D)   (None, 12, 12, 448)  1204224     block7b_se_excite[0][0]          \n__________________________________________________________________________________________________\nblock7b_project_bn (BatchNormal (None, 12, 12, 448)  1792        block7b_project_conv[0][0]       \n__________________________________________________________________________________________________\nblock7b_drop (Dropout)          (None, 12, 12, 448)  0           block7b_project_bn[0][0]         \n__________________________________________________________________________________________________\nblock7b_add (Add)               (None, 12, 12, 448)  0           block7b_drop[0][0]               \n                                                                 block7a_project_bn[0][0]         \n__________________________________________________________________________________________________\ntop_conv (Conv2D)               (None, 12, 12, 1792) 802816      block7b_add[0][0]                \n__________________________________________________________________________________________________\ntop_bn (BatchNormalization)     (None, 12, 12, 1792) 7168        top_conv[0][0]                   \n__________________________________________________________________________________________________\ntop_activation (Activation)     (None, 12, 12, 1792) 0           top_bn[0][0]                     \n__________________________________________________________________________________________________\nflatten (Flatten)               (None, 258048)       0           top_activation[0][0]             \n__________________________________________________________________________________________________\ndense (Dense)                   (None, 5)            1290245     flatten[0][0]                    \n==================================================================================================\nTotal params: 18,964,068\nTrainable params: 18,838,861\nNon-trainable params: 125,207\n__________________________________________________________________________________________________\n"
     ]
    }
   ],
   "source": [
    "model = create_model()\n",
    "model.summary()"
   ]
  },
  {
   "cell_type": "code",
   "execution_count": 4,
   "metadata": {},
   "outputs": [],
   "source": [
    "model.load_weights('Models/Varadh;s model weights/SavedWeights.hdf5')"
   ]
  },
  {
   "cell_type": "code",
   "execution_count": 6,
   "metadata": {},
   "outputs": [
    {
     "output_type": "stream",
     "name": "stdout",
     "text": [
      "WARNING:tensorflow:From C:\\Users\\harsh\\AppData\\Local\\Programs\\Python\\Python38\\lib\\site-packages\\tensorflow\\python\\training\\tracking\\tracking.py:111: Model.state_updates (from tensorflow.python.keras.engine.training) is deprecated and will be removed in a future version.\n",
      "Instructions for updating:\n",
      "This property should not be used in TensorFlow 2.0, as updates are applied automatically.\n",
      "WARNING:tensorflow:From C:\\Users\\harsh\\AppData\\Local\\Programs\\Python\\Python38\\lib\\site-packages\\tensorflow\\python\\training\\tracking\\tracking.py:111: Layer.updates (from tensorflow.python.keras.engine.base_layer) is deprecated and will be removed in a future version.\n",
      "Instructions for updating:\n",
      "This property should not be used in TensorFlow 2.0, as updates are applied automatically.\n",
      "INFO:tensorflow:Assets written to: C:\\Users\\harsh\\AppData\\Local\\Temp\\tmpt6hkkhb9\\assets\n"
     ]
    }
   ],
   "source": [
    "converter = tf.lite.TFLiteConverter.from_keras_model(model)\n",
    "tflite_model = converter.convert()\n",
    "\n",
    "# Save the model.\n",
    "with open('model.tflite', 'wb') as f:\n",
    "  f.write(tflite_model)"
   ]
  },
  {
   "cell_type": "code",
   "execution_count": 8,
   "metadata": {},
   "outputs": [
    {
     "output_type": "stream",
     "name": "stdout",
     "text": [
      "== Input details ==\nshape: [  1 380 380   3]\ntype: <class 'numpy.float32'>\n\n== Output details ==\nshape: [1 5]\ntype: <class 'numpy.float32'>\n"
     ]
    }
   ],
   "source": [
    "tflite_interpreter = tf.lite.Interpreter(model_path=\"model.tflite\")\n",
    "\n",
    "input_details = tflite_interpreter.get_input_details()\n",
    "output_details = tflite_interpreter.get_output_details()\n",
    "\n",
    "print(\"== Input details ==\")\n",
    "print(\"shape:\", input_details[0]['shape'])\n",
    "print(\"type:\", input_details[0]['dtype'])\n",
    "print(\"\\n== Output details ==\")\n",
    "print(\"shape:\", output_details[0]['shape'])\n",
    "print(\"type:\", output_details[0]['dtype'])"
   ]
  },
  {
   "cell_type": "code",
   "execution_count": 9,
   "metadata": {},
   "outputs": [
    {
     "output_type": "stream",
     "name": "stdout",
     "text": [
      "== Input details ==\nshape: [ 32 380 380   3]\n\n== Output details ==\nshape: [32  5]\n"
     ]
    }
   ],
   "source": [
    "tflite_interpreter.resize_tensor_input(input_details[0]['index'], (32, 380   , 380   , 3))\n",
    "tflite_interpreter.resize_tensor_input(output_details[0]['index'], (32, 5))\n",
    "tflite_interpreter.allocate_tensors()\n",
    "\n",
    "input_details = tflite_interpreter.get_input_details()\n",
    "output_details = tflite_interpreter.get_output_details()\n",
    "\n",
    "print(\"== Input details ==\")\n",
    "print(\"shape:\", input_details[0]['shape'])\n",
    "print(\"\\n== Output details ==\")\n",
    "print(\"shape:\", output_details[0]['shape'])"
   ]
  },
  {
   "cell_type": "code",
   "execution_count": null,
   "metadata": {},
   "outputs": [],
   "source": [
    "# Set batch of images into input tensor\n",
    "tflite_interpreter.set_tensor(input_details[0]['index'], val_image_batch)\n",
    "# Run inference\n",
    "tflite_interpreter.invoke()\n",
    "# Get prediction results\n",
    "tflite_model_predictions = tflite_interpreter.get_tensor(output_details[0]['index'])\n",
    "print(\"Prediction results shape:\", tflite_model_predictions.shape)\n",
    "\n",
    "# >> Prediction results shape: (32, 5)\n",
    "\n",
    "# Convert prediction results to Pandas dataframe, for better visualization\n",
    "tflite_pred_dataframe = pd.DataFrame(tflite_model_predictions)\n",
    "tflite_pred_dataframe.columns = dataset_labels"
   ]
  },
  {
   "cell_type": "code",
   "execution_count": 11,
   "metadata": {},
   "outputs": [
    {
     "output_type": "execute_result",
     "data": {
      "text/plain": [
       "         image_id  label\n",
       "0  1000015157.jpg      0\n",
       "1  1000201771.jpg      3\n",
       "2   100042118.jpg      1\n",
       "3  1000723321.jpg      1\n",
       "4  1000812911.jpg      3"
      ],
      "text/html": "<div>\n<style scoped>\n    .dataframe tbody tr th:only-of-type {\n        vertical-align: middle;\n    }\n\n    .dataframe tbody tr th {\n        vertical-align: top;\n    }\n\n    .dataframe thead th {\n        text-align: right;\n    }\n</style>\n<table border=\"1\" class=\"dataframe\">\n  <thead>\n    <tr style=\"text-align: right;\">\n      <th></th>\n      <th>image_id</th>\n      <th>label</th>\n    </tr>\n  </thead>\n  <tbody>\n    <tr>\n      <th>0</th>\n      <td>1000015157.jpg</td>\n      <td>0</td>\n    </tr>\n    <tr>\n      <th>1</th>\n      <td>1000201771.jpg</td>\n      <td>3</td>\n    </tr>\n    <tr>\n      <th>2</th>\n      <td>100042118.jpg</td>\n      <td>1</td>\n    </tr>\n    <tr>\n      <th>3</th>\n      <td>1000723321.jpg</td>\n      <td>1</td>\n    </tr>\n    <tr>\n      <th>4</th>\n      <td>1000812911.jpg</td>\n      <td>3</td>\n    </tr>\n  </tbody>\n</table>\n</div>"
     },
     "metadata": {},
     "execution_count": 11
    }
   ],
   "source": [
    "train_labels = pd.read_csv(\"train.csv\")\n",
    "train_labels.head()"
   ]
  },
  {
   "cell_type": "code",
   "execution_count": 17,
   "metadata": {},
   "outputs": [],
   "source": [
    "BATCH_SIZE = 32\n",
    "STEPS_PER_EPOCH = len(train_labels)*0.8 / BATCH_SIZE\n",
    "VALIDATION_STEPS = len(train_labels)*0.2 / BATCH_SIZE\n",
    "EPOCHS = 25\n",
    "TARGET_SIZE = 380"
   ]
  },
  {
   "cell_type": "code",
   "execution_count": 18,
   "metadata": {},
   "outputs": [
    {
     "output_type": "stream",
     "name": "stdout",
     "text": [
      "Found 17118 validated image filenames belonging to 5 classes.\n",
      "Found 4279 validated image filenames belonging to 5 classes.\n"
     ]
    }
   ],
   "source": [
    "train_labels.label = train_labels.label.astype('str')\n",
    "\n",
    "train_datagen = ImageDataGenerator(validation_split = 0.20,\n",
    "                                     rotation_range = 30,\n",
    "                                     zoom_range = 0.15,\n",
    "                                     horizontal_flip = True,\n",
    "                                     vertical_flip = True,\n",
    "                                     brightness_range=[0.4,1.4],\n",
    "                                     fill_mode = 'nearest')\n",
    "                                    #  height_shift_range = 0.1,\n",
    "                                    #  width_shift_range = 0.1\n",
    "\n",
    "train_generator = train_datagen.flow_from_dataframe(train_labels,\n",
    "                         directory =\"train_images\",\n",
    "                         subset = \"training\",\n",
    "                         x_col = \"image_id\",\n",
    "                         y_col = \"label\",\n",
    "                         target_size = (TARGET_SIZE, TARGET_SIZE),\n",
    "                         batch_size = BATCH_SIZE,\n",
    "                         class_mode = \"sparse\")\n",
    "\n",
    "\n",
    "validation_datagen = ImageDataGenerator(validation_split = 0.20)\n",
    "\n",
    "validation_generator = validation_datagen.flow_from_dataframe(train_labels,\n",
    "                         directory = \"train_images\",\n",
    "                         subset = \"validation\",\n",
    "                         x_col = \"image_id\",\n",
    "                         y_col = \"label\",\n",
    "                         target_size = (TARGET_SIZE, TARGET_SIZE),\n",
    "                         batch_size = BATCH_SIZE,\n",
    "                         class_mode = \"sparse\")"
   ]
  },
  {
   "cell_type": "code",
   "execution_count": 19,
   "metadata": {},
   "outputs": [],
   "source": [
    "val_image_batch, val_label_batch = next(iter(validation_generator))"
   ]
  },
  {
   "cell_type": "code",
   "execution_count": 21,
   "metadata": {},
   "outputs": [
    {
     "output_type": "stream",
     "name": "stdout",
     "text": [
      "Prediction results shape: (32, 5)\n"
     ]
    }
   ],
   "source": [
    "# Set batch of images into input tensor\n",
    "tflite_interpreter.set_tensor(input_details[0]['index'], val_image_batch)\n",
    "# Run inference\n",
    "tflite_interpreter.invoke()\n",
    "# Get prediction results\n",
    "tflite_model_predictions = tflite_interpreter.get_tensor(output_details[0]['index'])\n",
    "print(\"Prediction results shape:\", tflite_model_predictions.shape)\n",
    "\n",
    "# >> Prediction results shape: (32, 5)\n",
    "\n",
    "# Convert prediction results to Pandas dataframe, for better visualization\n",
    "tflite_pred_dataframe = pd.DataFrame(tflite_model_predictions)\n",
    "tflite_pred_dataframe.columns = [\"CBB\",\"CBSD\", \"CGM\", \"CMD\", \"Healthy\"]"
   ]
  },
  {
   "cell_type": "code",
   "execution_count": 22,
   "metadata": {},
   "outputs": [
    {
     "output_type": "execute_result",
     "data": {
      "text/plain": [
       "        CBB      CBSD       CGM       CMD   Healthy\n",
       "0  0.021328  0.011257  0.011563  0.018089  0.937763\n",
       "1  0.006764  0.021918  0.242174  0.359220  0.369924\n",
       "2  0.000965  0.230051  0.008106  0.758398  0.002480\n",
       "3  0.001718  0.000655  0.011324  0.971596  0.014708\n",
       "4  0.029705  0.025812  0.028361  0.239592  0.676530"
      ],
      "text/html": "<div>\n<style scoped>\n    .dataframe tbody tr th:only-of-type {\n        vertical-align: middle;\n    }\n\n    .dataframe tbody tr th {\n        vertical-align: top;\n    }\n\n    .dataframe thead th {\n        text-align: right;\n    }\n</style>\n<table border=\"1\" class=\"dataframe\">\n  <thead>\n    <tr style=\"text-align: right;\">\n      <th></th>\n      <th>CBB</th>\n      <th>CBSD</th>\n      <th>CGM</th>\n      <th>CMD</th>\n      <th>Healthy</th>\n    </tr>\n  </thead>\n  <tbody>\n    <tr>\n      <th>0</th>\n      <td>0.021328</td>\n      <td>0.011257</td>\n      <td>0.011563</td>\n      <td>0.018089</td>\n      <td>0.937763</td>\n    </tr>\n    <tr>\n      <th>1</th>\n      <td>0.006764</td>\n      <td>0.021918</td>\n      <td>0.242174</td>\n      <td>0.359220</td>\n      <td>0.369924</td>\n    </tr>\n    <tr>\n      <th>2</th>\n      <td>0.000965</td>\n      <td>0.230051</td>\n      <td>0.008106</td>\n      <td>0.758398</td>\n      <td>0.002480</td>\n    </tr>\n    <tr>\n      <th>3</th>\n      <td>0.001718</td>\n      <td>0.000655</td>\n      <td>0.011324</td>\n      <td>0.971596</td>\n      <td>0.014708</td>\n    </tr>\n    <tr>\n      <th>4</th>\n      <td>0.029705</td>\n      <td>0.025812</td>\n      <td>0.028361</td>\n      <td>0.239592</td>\n      <td>0.676530</td>\n    </tr>\n  </tbody>\n</table>\n</div>"
     },
     "metadata": {},
     "execution_count": 22
    }
   ],
   "source": [
    "tflite_pred_dataframe.head()"
   ]
  },
  {
   "cell_type": "code",
   "execution_count": null,
   "metadata": {},
   "outputs": [],
   "source": []
  }
 ]
}